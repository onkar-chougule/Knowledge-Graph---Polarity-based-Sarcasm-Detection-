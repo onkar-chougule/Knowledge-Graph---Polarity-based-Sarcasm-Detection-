{
 "cells": [
  {
   "cell_type": "code",
   "execution_count": 1,
   "metadata": {
    "id": "MXMOWPpL8mu0"
   },
   "outputs": [],
   "source": [
    "import pandas as pd\n",
    "import numpy as np\n",
    "import matplotlib.pyplot as plt\n",
    "import seaborn as sns\n",
    "from sklearn.model_selection import train_test_split"
   ]
  },
  {
   "cell_type": "code",
   "execution_count": 2,
   "metadata": {},
   "outputs": [
    {
     "data": {
      "text/html": [
       "<div>\n",
       "<style scoped>\n",
       "    .dataframe tbody tr th:only-of-type {\n",
       "        vertical-align: middle;\n",
       "    }\n",
       "\n",
       "    .dataframe tbody tr th {\n",
       "        vertical-align: top;\n",
       "    }\n",
       "\n",
       "    .dataframe thead th {\n",
       "        text-align: right;\n",
       "    }\n",
       "</style>\n",
       "<table border=\"1\" class=\"dataframe\">\n",
       "  <thead>\n",
       "    <tr style=\"text-align: right;\">\n",
       "      <th></th>\n",
       "      <th>author</th>\n",
       "      <th>date</th>\n",
       "      <th>title</th>\n",
       "      <th>product</th>\n",
       "      <th>review</th>\n",
       "      <th>rating</th>\n",
       "      <th>label</th>\n",
       "    </tr>\n",
       "  </thead>\n",
       "  <tbody>\n",
       "    <tr>\n",
       "      <th>0</th>\n",
       "      <td>Verne Berridge Jr.</td>\n",
       "      <td>November 6, 2008</td>\n",
       "      <td>If you like silly exaggerations, you will like...</td>\n",
       "      <td>Sicko (Special Edition) (DVD)</td>\n",
       "      <td>Filled with many well produced exaggerations d...</td>\n",
       "      <td>1.0</td>\n",
       "      <td>0</td>\n",
       "    </tr>\n",
       "    <tr>\n",
       "      <th>1</th>\n",
       "      <td>S. Kelly</td>\n",
       "      <td>October 29, 2009</td>\n",
       "      <td>I loved this so much I got one for my 90yr old...</td>\n",
       "      <td>AutoExec - WM-01 - Wheelmate Steering Wheel De...</td>\n",
       "      <td>I loved my Laptop Steering Wheel Desk so much ...</td>\n",
       "      <td>5.0</td>\n",
       "      <td>1</td>\n",
       "    </tr>\n",
       "    <tr>\n",
       "      <th>2</th>\n",
       "      <td>A. CLARK</td>\n",
       "      <td>December 6, 2008</td>\n",
       "      <td>Not even worth finishing...</td>\n",
       "      <td>Dead Until Dark (Sookie Stackhouse / Southern ...</td>\n",
       "      <td>First of all, apologies to all of you who are ...</td>\n",
       "      <td>1.0</td>\n",
       "      <td>0</td>\n",
       "    </tr>\n",
       "    <tr>\n",
       "      <th>3</th>\n",
       "      <td>Jennifer Ford \"Jenn Ford\"</td>\n",
       "      <td>November 25, 2008</td>\n",
       "      <td>Calming and Clearing</td>\n",
       "      <td>Proactiv Solution Refining Mask 2.5 Oz (Health...</td>\n",
       "      <td>I've used this mask for years. When I was youn...</td>\n",
       "      <td>5.0</td>\n",
       "      <td>0</td>\n",
       "    </tr>\n",
       "    <tr>\n",
       "      <th>4</th>\n",
       "      <td>Tommy Morais</td>\n",
       "      <td>October 28, 2009</td>\n",
       "      <td>\"I'm Glad They Did This Film\"</td>\n",
       "      <td>Michael Jackson: This Is It (DVD)</td>\n",
       "      <td>When Michael Jackson died on June 25th 2009 it...</td>\n",
       "      <td>5.0</td>\n",
       "      <td>0</td>\n",
       "    </tr>\n",
       "  </tbody>\n",
       "</table>\n",
       "</div>"
      ],
      "text/plain": [
       "                      author               date  \\\n",
       "0         Verne Berridge Jr.   November 6, 2008   \n",
       "1                   S. Kelly   October 29, 2009   \n",
       "2                   A. CLARK   December 6, 2008   \n",
       "3  Jennifer Ford \"Jenn Ford\"  November 25, 2008   \n",
       "4               Tommy Morais   October 28, 2009   \n",
       "\n",
       "                                               title  \\\n",
       "0  If you like silly exaggerations, you will like...   \n",
       "1  I loved this so much I got one for my 90yr old...   \n",
       "2                        Not even worth finishing...   \n",
       "3                               Calming and Clearing   \n",
       "4                      \"I'm Glad They Did This Film\"   \n",
       "\n",
       "                                             product  \\\n",
       "0                      Sicko (Special Edition) (DVD)   \n",
       "1  AutoExec - WM-01 - Wheelmate Steering Wheel De...   \n",
       "2  Dead Until Dark (Sookie Stackhouse / Southern ...   \n",
       "3  Proactiv Solution Refining Mask 2.5 Oz (Health...   \n",
       "4                  Michael Jackson: This Is It (DVD)   \n",
       "\n",
       "                                              review  rating  label  \n",
       "0  Filled with many well produced exaggerations d...     1.0      0  \n",
       "1  I loved my Laptop Steering Wheel Desk so much ...     5.0      1  \n",
       "2  First of all, apologies to all of you who are ...     1.0      0  \n",
       "3  I've used this mask for years. When I was youn...     5.0      0  \n",
       "4  When Michael Jackson died on June 25th 2009 it...     5.0      0  "
      ]
     },
     "execution_count": 2,
     "metadata": {},
     "output_type": "execute_result"
    }
   ],
   "source": [
    "#Amezon\n",
    "df=pd.read_csv('Amazon_product_reviews.csv')\n",
    "df.head()"
   ]
  },
  {
   "cell_type": "code",
   "execution_count": 3,
   "metadata": {},
   "outputs": [],
   "source": [
    "rev=[]\n",
    "for i,j in zip(df['title'],df['review']):\n",
    "    if i not in j:\n",
    "        rev.append(' '.join([i,j]))\n",
    "    else:\n",
    "        rev.append(j)\n",
    "df['review']=rev"
   ]
  },
  {
   "cell_type": "code",
   "execution_count": 4,
   "metadata": {},
   "outputs": [],
   "source": [
    "st=df[df['label']==0].iloc[:435]\n",
    "nt=df[df['label']==1]\n",
    "df=pd.concat([st,nt])"
   ]
  },
  {
   "cell_type": "code",
   "execution_count": 5,
   "metadata": {},
   "outputs": [],
   "source": [
    "X_train,X_test,y_train,y_test= train_test_split(df[['review','rating']],df['label'],random_state=42,stratify=df['label'])"
   ]
  },
  {
   "cell_type": "code",
   "execution_count": 6,
   "metadata": {},
   "outputs": [
    {
     "data": {
      "text/html": [
       "<div>\n",
       "<style scoped>\n",
       "    .dataframe tbody tr th:only-of-type {\n",
       "        vertical-align: middle;\n",
       "    }\n",
       "\n",
       "    .dataframe tbody tr th {\n",
       "        vertical-align: top;\n",
       "    }\n",
       "\n",
       "    .dataframe thead th {\n",
       "        text-align: right;\n",
       "    }\n",
       "</style>\n",
       "<table border=\"1\" class=\"dataframe\">\n",
       "  <thead>\n",
       "    <tr style=\"text-align: right;\">\n",
       "      <th></th>\n",
       "      <th>review</th>\n",
       "      <th>rating</th>\n",
       "      <th>label</th>\n",
       "    </tr>\n",
       "  </thead>\n",
       "  <tbody>\n",
       "    <tr>\n",
       "      <th>0</th>\n",
       "      <td>I simply had no idea how bad it is! I am a sta...</td>\n",
       "      <td>5.0</td>\n",
       "      <td>0</td>\n",
       "    </tr>\n",
       "    <tr>\n",
       "      <th>1</th>\n",
       "      <td>A searing indictment... This book is sure to b...</td>\n",
       "      <td>5.0</td>\n",
       "      <td>0</td>\n",
       "    </tr>\n",
       "    <tr>\n",
       "      <th>2</th>\n",
       "      <td>Another movie to ignore.... A perfect date mov...</td>\n",
       "      <td>1.0</td>\n",
       "      <td>1</td>\n",
       "    </tr>\n",
       "    <tr>\n",
       "      <th>3</th>\n",
       "      <td>Buy this phone !! I got my Droid Incredible in...</td>\n",
       "      <td>5.0</td>\n",
       "      <td>0</td>\n",
       "    </tr>\n",
       "    <tr>\n",
       "      <th>4</th>\n",
       "      <td>Mother &amp; daughter So far this is pretty boring...</td>\n",
       "      <td>3.0</td>\n",
       "      <td>0</td>\n",
       "    </tr>\n",
       "  </tbody>\n",
       "</table>\n",
       "</div>"
      ],
      "text/plain": [
       "                                              review  rating  label\n",
       "0  I simply had no idea how bad it is! I am a sta...     5.0      0\n",
       "1  A searing indictment... This book is sure to b...     5.0      0\n",
       "2  Another movie to ignore.... A perfect date mov...     1.0      1\n",
       "3  Buy this phone !! I got my Droid Incredible in...     5.0      0\n",
       "4  Mother & daughter So far this is pretty boring...     3.0      0"
      ]
     },
     "execution_count": 6,
     "metadata": {},
     "output_type": "execute_result"
    }
   ],
   "source": [
    "X_train,X_test,y_train,y_test= train_test_split(df[['review','rating']],df['label'],random_state=42,stratify=df['label'])\n",
    "dft = X_train\n",
    "dft['label']=list(y_train)\n",
    "dft.reset_index(inplace=True,drop=True)\n",
    "dft.head()"
   ]
  },
  {
   "cell_type": "code",
   "execution_count": 7,
   "metadata": {},
   "outputs": [
    {
     "data": {
      "text/html": [
       "<div>\n",
       "<style scoped>\n",
       "    .dataframe tbody tr th:only-of-type {\n",
       "        vertical-align: middle;\n",
       "    }\n",
       "\n",
       "    .dataframe tbody tr th {\n",
       "        vertical-align: top;\n",
       "    }\n",
       "\n",
       "    .dataframe thead th {\n",
       "        text-align: right;\n",
       "    }\n",
       "</style>\n",
       "<table border=\"1\" class=\"dataframe\">\n",
       "  <thead>\n",
       "    <tr style=\"text-align: right;\">\n",
       "      <th></th>\n",
       "      <th>review</th>\n",
       "      <th>rating</th>\n",
       "      <th>label</th>\n",
       "    </tr>\n",
       "  </thead>\n",
       "  <tbody>\n",
       "    <tr>\n",
       "      <th>0</th>\n",
       "      <td>Great Alyssa, but rather boring movie This is ...</td>\n",
       "      <td>2.0</td>\n",
       "      <td>0</td>\n",
       "    </tr>\n",
       "    <tr>\n",
       "      <th>1</th>\n",
       "      <td>worst ever If this was written by Danielle Ste...</td>\n",
       "      <td>1.0</td>\n",
       "      <td>1</td>\n",
       "    </tr>\n",
       "    <tr>\n",
       "      <th>2</th>\n",
       "      <td>Hasselhoff Me!  Please! One was having a parti...</td>\n",
       "      <td>5.0</td>\n",
       "      <td>1</td>\n",
       "    </tr>\n",
       "    <tr>\n",
       "      <th>3</th>\n",
       "      <td>One Friday, Without the Milk He always brought...</td>\n",
       "      <td>3.0</td>\n",
       "      <td>1</td>\n",
       "    </tr>\n",
       "    <tr>\n",
       "      <th>4</th>\n",
       "      <td>this. sucked. bad. one word: punctuation. ok, ...</td>\n",
       "      <td>1.0</td>\n",
       "      <td>1</td>\n",
       "    </tr>\n",
       "  </tbody>\n",
       "</table>\n",
       "</div>"
      ],
      "text/plain": [
       "                                              review  rating  label\n",
       "0  Great Alyssa, but rather boring movie This is ...     2.0      0\n",
       "1  worst ever If this was written by Danielle Ste...     1.0      1\n",
       "2  Hasselhoff Me!  Please! One was having a parti...     5.0      1\n",
       "3  One Friday, Without the Milk He always brought...     3.0      1\n",
       "4  this. sucked. bad. one word: punctuation. ok, ...     1.0      1"
      ]
     },
     "execution_count": 7,
     "metadata": {},
     "output_type": "execute_result"
    }
   ],
   "source": [
    "dftest=X_test\n",
    "dftest['label']=list(y_test)\n",
    "dftest.reset_index(inplace=True,drop=True)\n",
    "dftest.head()"
   ]
  },
  {
   "cell_type": "code",
   "execution_count": 8,
   "metadata": {},
   "outputs": [],
   "source": [
    "dft.to_pickle('intermediate_files/train_data_for_amazon_sarcasm_detection.pkl')\n",
    "dftest.to_pickle('intermediate_files/test_data_for_amazon_sarcasm_detection.pkl')"
   ]
  },
  {
   "cell_type": "code",
   "execution_count": null,
   "metadata": {},
   "outputs": [],
   "source": []
  },
  {
   "cell_type": "code",
   "execution_count": null,
   "metadata": {},
   "outputs": [],
   "source": []
  }
 ],
 "metadata": {
  "colab": {
   "name": "functions_for_finding_bi_tri_pos_weights_sets.ipynb",
   "provenance": []
  },
  "kernelspec": {
   "display_name": "Python 3",
   "language": "python",
   "name": "python3"
  },
  "language_info": {
   "codemirror_mode": {
    "name": "ipython",
    "version": 3
   },
   "file_extension": ".py",
   "mimetype": "text/x-python",
   "name": "python",
   "nbconvert_exporter": "python",
   "pygments_lexer": "ipython3",
   "version": "3.8.5"
  }
 },
 "nbformat": 4,
 "nbformat_minor": 1
}
